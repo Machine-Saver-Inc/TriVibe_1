{
 "cells": [
  {
   "cell_type": "code",
   "execution_count": 1,
   "metadata": {},
   "outputs": [],
   "source": [
    "# import neccessary libraries\n",
    "import minimalmodbus                        # modbus master library which supports Modbus RTU & Modbus ASCII but not Modbus TCP\n",
    "import serial.tools.list_ports              # only used to find COM Port of your USB to RS485 Converter\n",
    "import time "
   ]
  },
  {
   "cell_type": "code",
   "execution_count": 2,
   "metadata": {},
   "outputs": [
    {
     "name": "stdout",
     "output_type": "stream",
     "text": [
      "Ports Available for Selection: \n",
      "COM6 - Arduino MKR WiFi 1010 (COM6)\n",
      "COM7 - USB-SERIAL CH340 (COM7)\n"
     ]
    }
   ],
   "source": [
    "# Find connected COM Ports Windows (RS485 to USB Converter)\n",
    "ports = list(serial.tools.list_ports.comports())\n",
    "if len(ports)==0:\n",
    "    print('Please Plug A USB to RS485 Serial Converter in to Computer')\n",
    "else:\n",
    "    print(\"Ports Available for Selection: \")\n",
    "    for p in ports:\n",
    "        print (p)"
   ]
  },
  {
   "cell_type": "code",
   "execution_count": 3,
   "metadata": {},
   "outputs": [
    {
     "name": "stdout",
     "output_type": "stream",
     "text": [
      "Which com port? (Example: COM5 or /dev/ttyUSB1): COM7\n",
      "Which sensor RTU#/SlaveAddress? (Default: Last 2 Digits of Serial Number): 71\n"
     ]
    }
   ],
   "source": [
    "# define your port and sensorid\n",
    "PORT = input(\"Which com port? (Example: COM5 or /dev/ttyUSB1): \")\n",
    "SLAVE_ADDRESS = int(input(\"Which sensor RTU#/SlaveAddress? (Default: Last 2 Digits of Serial Number): \"))\n",
    "trivibe = minimalmodbus.Instrument(PORT, SLAVE_ADDRESS)"
   ]
  },
  {
   "cell_type": "code",
   "execution_count": 4,
   "metadata": {},
   "outputs": [
    {
     "name": "stdout",
     "output_type": "stream",
     "text": [
      "minimalmodbus.Instrument<id=0x290d6cc5f48, address=71, mode=rtu, close_port_after_each_call=True, precalculate_read_size=True, clear_buffers_before_each_transaction=True, handle_local_echo=False, debug=False, serial=Serial<id=0x290d6cc74c8, open=True>(port='COM7', baudrate=115200, bytesize=8, parity='N', stopbits=1, timeout=0.1, xonxoff=False, rtscts=False, dsrdtr=False)>\n"
     ]
    }
   ],
   "source": [
    "# update current slave settings for Tri-Vibe defaults and some useful variables\n",
    "trivibe.serial.port                        # this is the serial port name\n",
    "trivibe.address                            # this is the slave address (set this to the last 2 digits of the serial number of the Tri-Vibe that you want to communicate with)\n",
    "trivibe.serial.baudrate = 115200           # Baudrate fixed 115200\n",
    "trivibe.serial.bytesize = 8                # Bytesize fixed 8\n",
    "trivibe.serial.parity   = \"N\"              # Parity fixed None \n",
    "trivibe.serial.stopbits = 1                # Stopbits fixed 1\n",
    "trivibe.serial.timeout  = 0.10             # Seconds\n",
    "trivibe.close_port_after_each_call = True  # Helps communication for Windows Devices (can be set to false on many Linux devices)\n",
    "trivibe.mode = minimalmodbus.MODE_RTU      # modbus mode fixed RTU Mode\n",
    "trivibe.clear_buffers_before_each_transaction = True\n",
    "\n",
    "print(trivibe)                             # check updated slave communication settings"
   ]
  },
  {
   "cell_type": "code",
   "execution_count": 5,
   "metadata": {},
   "outputs": [
    {
     "name": "stdout",
     "output_type": "stream",
     "text": [
      "Do you want to assign a different slave address to this sensor? (Y/N) n\n"
     ]
    }
   ],
   "source": [
    "UNLOCK = 45555\n",
    "LOCK = 45556\n",
    "set_new_rtu = input(\"Do you want to assign a different slave address to this sensor? (Y/N) \")\n",
    "\n",
    "if(set_new_rtu==\"Y\" or set_new_rtu==\"y\"):\n",
    "    VALID_RTU=False\n",
    "    while(not VALID_RTU):\n",
    "        NEW_SLAVE_ADDRESS=int(input(\"What new RTU#/SlaveAddress would you like to assign? \"))\n",
    "        if(0<NEW_SLAVE_ADDRESS<255):\n",
    "            VALID_RTU=True\n",
    "    trivibe.write_register(1, UNLOCK)\n",
    "    trivibe.write_register(367, NEW_SLAVE_ADDRESS)\n",
    "    trivibe.write_register(1, LOCK)\n",
    "    trivibe.write_register(1, 1)\n",
    "    print(\"Sensor Rebooting\")\n",
    "    time.sleep(5)\n",
    "    trivibe = minimalmodbus.Instrument(PORT, NEW_SLAVE_ADDRESS)\n",
    "    print(\"TriVibe Slave Address Successfully changed from \",SLAVE_ADDRESS,\" to \", NEW_SLAVE_ADDRESS)\n",
    "else:\n",
    "    pass"
   ]
  },
  {
   "cell_type": "code",
   "execution_count": 6,
   "metadata": {},
   "outputs": [
    {
     "ename": "NoResponseError",
     "evalue": "No communication with the instrument (no answer)",
     "output_type": "error",
     "traceback": [
      "\u001b[1;31m---------------------------------------------------------------------------\u001b[0m",
      "\u001b[1;31mNoResponseError\u001b[0m                           Traceback (most recent call last)",
      "\u001b[1;32m<ipython-input-6-30881fb8ec45>\u001b[0m in \u001b[0;36m<module>\u001b[1;34m\u001b[0m\n\u001b[0;32m      1\u001b[0m \u001b[0mMODE\u001b[0m \u001b[1;33m=\u001b[0m \u001b[1;36m1\u001b[0m\u001b[1;33m\u001b[0m\u001b[1;33m\u001b[0m\u001b[0m\n\u001b[0;32m      2\u001b[0m \u001b[1;31m# Set Vibration Mode\u001b[0m\u001b[1;33m\u001b[0m\u001b[1;33m\u001b[0m\u001b[1;33m\u001b[0m\u001b[0m\n\u001b[1;32m----> 3\u001b[1;33m \u001b[0mtrivibe\u001b[0m\u001b[1;33m.\u001b[0m\u001b[0mwrite_register\u001b[0m\u001b[1;33m(\u001b[0m\u001b[1;36m1\u001b[0m\u001b[1;33m,\u001b[0m \u001b[0mUNLOCK\u001b[0m\u001b[1;33m)\u001b[0m\u001b[1;33m\u001b[0m\u001b[1;33m\u001b[0m\u001b[0m\n\u001b[0m\u001b[0;32m      4\u001b[0m \u001b[0mtrivibe\u001b[0m\u001b[1;33m.\u001b[0m\u001b[0mwrite_register\u001b[0m\u001b[1;33m(\u001b[0m\u001b[1;36m373\u001b[0m\u001b[1;33m,\u001b[0m \u001b[0mMODE\u001b[0m\u001b[1;33m)\u001b[0m\u001b[1;33m\u001b[0m\u001b[1;33m\u001b[0m\u001b[0m\n\u001b[0;32m      5\u001b[0m \u001b[0mtrivibe\u001b[0m\u001b[1;33m.\u001b[0m\u001b[0mwrite_register\u001b[0m\u001b[1;33m(\u001b[0m\u001b[1;36m1\u001b[0m\u001b[1;33m,\u001b[0m \u001b[0mLOCK\u001b[0m\u001b[1;33m)\u001b[0m\u001b[1;33m\u001b[0m\u001b[1;33m\u001b[0m\u001b[0m\n",
      "\u001b[1;32m~\\Anaconda3\\lib\\site-packages\\minimalmodbus.py\u001b[0m in \u001b[0;36mwrite_register\u001b[1;34m(self, registeraddress, value, number_of_decimals, functioncode, signed)\u001b[0m\n\u001b[0;32m    516\u001b[0m             \u001b[0mnumber_of_registers\u001b[0m\u001b[1;33m=\u001b[0m\u001b[1;36m1\u001b[0m\u001b[1;33m,\u001b[0m\u001b[1;33m\u001b[0m\u001b[1;33m\u001b[0m\u001b[0m\n\u001b[0;32m    517\u001b[0m             \u001b[0msigned\u001b[0m\u001b[1;33m=\u001b[0m\u001b[0msigned\u001b[0m\u001b[1;33m,\u001b[0m\u001b[1;33m\u001b[0m\u001b[1;33m\u001b[0m\u001b[0m\n\u001b[1;32m--> 518\u001b[1;33m             \u001b[0mpayloadformat\u001b[0m\u001b[1;33m=\u001b[0m\u001b[0m_PAYLOADFORMAT_REGISTER\u001b[0m\u001b[1;33m,\u001b[0m\u001b[1;33m\u001b[0m\u001b[1;33m\u001b[0m\u001b[0m\n\u001b[0m\u001b[0;32m    519\u001b[0m         )\n\u001b[0;32m    520\u001b[0m \u001b[1;33m\u001b[0m\u001b[0m\n",
      "\u001b[1;32m~\\Anaconda3\\lib\\site-packages\\minimalmodbus.py\u001b[0m in \u001b[0;36m_generic_command\u001b[1;34m(self, functioncode, registeraddress, value, number_of_decimals, number_of_registers, number_of_bits, signed, byteorder, payloadformat)\u001b[0m\n\u001b[0;32m   1168\u001b[0m \u001b[1;33m\u001b[0m\u001b[0m\n\u001b[0;32m   1169\u001b[0m         \u001b[1;31m# Communicate with instrument\u001b[0m\u001b[1;33m\u001b[0m\u001b[1;33m\u001b[0m\u001b[1;33m\u001b[0m\u001b[0m\n\u001b[1;32m-> 1170\u001b[1;33m         \u001b[0mpayload_from_slave\u001b[0m \u001b[1;33m=\u001b[0m \u001b[0mself\u001b[0m\u001b[1;33m.\u001b[0m\u001b[0m_perform_command\u001b[0m\u001b[1;33m(\u001b[0m\u001b[0mfunctioncode\u001b[0m\u001b[1;33m,\u001b[0m \u001b[0mpayload_to_slave\u001b[0m\u001b[1;33m)\u001b[0m\u001b[1;33m\u001b[0m\u001b[1;33m\u001b[0m\u001b[0m\n\u001b[0m\u001b[0;32m   1171\u001b[0m \u001b[1;33m\u001b[0m\u001b[0m\n\u001b[0;32m   1172\u001b[0m         \u001b[1;31m# Parse response payload\u001b[0m\u001b[1;33m\u001b[0m\u001b[1;33m\u001b[0m\u001b[1;33m\u001b[0m\u001b[0m\n",
      "\u001b[1;32m~\\Anaconda3\\lib\\site-packages\\minimalmodbus.py\u001b[0m in \u001b[0;36m_perform_command\u001b[1;34m(self, functioncode, payload_to_slave)\u001b[0m\n\u001b[0;32m   1238\u001b[0m \u001b[1;33m\u001b[0m\u001b[0m\n\u001b[0;32m   1239\u001b[0m         \u001b[1;31m# Communicate\u001b[0m\u001b[1;33m\u001b[0m\u001b[1;33m\u001b[0m\u001b[1;33m\u001b[0m\u001b[0m\n\u001b[1;32m-> 1240\u001b[1;33m         \u001b[0mresponse\u001b[0m \u001b[1;33m=\u001b[0m \u001b[0mself\u001b[0m\u001b[1;33m.\u001b[0m\u001b[0m_communicate\u001b[0m\u001b[1;33m(\u001b[0m\u001b[0mrequest\u001b[0m\u001b[1;33m,\u001b[0m \u001b[0mnumber_of_bytes_to_read\u001b[0m\u001b[1;33m)\u001b[0m\u001b[1;33m\u001b[0m\u001b[1;33m\u001b[0m\u001b[0m\n\u001b[0m\u001b[0;32m   1241\u001b[0m \u001b[1;33m\u001b[0m\u001b[0m\n\u001b[0;32m   1242\u001b[0m         \u001b[1;31m# Extract payload\u001b[0m\u001b[1;33m\u001b[0m\u001b[1;33m\u001b[0m\u001b[1;33m\u001b[0m\u001b[0m\n",
      "\u001b[1;32m~\\Anaconda3\\lib\\site-packages\\minimalmodbus.py\u001b[0m in \u001b[0;36m_communicate\u001b[1;34m(self, request, number_of_bytes_to_read)\u001b[0m\n\u001b[0;32m   1404\u001b[0m \u001b[1;33m\u001b[0m\u001b[0m\n\u001b[0;32m   1405\u001b[0m         \u001b[1;32mif\u001b[0m \u001b[1;32mnot\u001b[0m \u001b[0manswer\u001b[0m\u001b[1;33m:\u001b[0m\u001b[1;33m\u001b[0m\u001b[1;33m\u001b[0m\u001b[0m\n\u001b[1;32m-> 1406\u001b[1;33m             \u001b[1;32mraise\u001b[0m \u001b[0mNoResponseError\u001b[0m\u001b[1;33m(\u001b[0m\u001b[1;34m\"No communication with the instrument (no answer)\"\u001b[0m\u001b[1;33m)\u001b[0m\u001b[1;33m\u001b[0m\u001b[1;33m\u001b[0m\u001b[0m\n\u001b[0m\u001b[0;32m   1407\u001b[0m \u001b[1;33m\u001b[0m\u001b[0m\n\u001b[0;32m   1408\u001b[0m         \u001b[1;32mreturn\u001b[0m \u001b[0manswer\u001b[0m\u001b[1;33m\u001b[0m\u001b[1;33m\u001b[0m\u001b[0m\n",
      "\u001b[1;31mNoResponseError\u001b[0m: No communication with the instrument (no answer)"
     ]
    }
   ],
   "source": [
    "MODE = 1\n",
    "# Set Vibration Mode\n",
    "trivibe.write_register(1, UNLOCK)\n",
    "trivibe.write_register(373, MODE)\n",
    "trivibe.write_register(1, LOCK)"
   ]
  },
  {
   "cell_type": "code",
   "execution_count": null,
   "metadata": {},
   "outputs": [],
   "source": [
    "FFT_POINTS_SENSOR_1 = 8192\n",
    "FFT_POINTS_SENSOR_2 = 4096\n",
    "\n",
    "# Set FFT Points for Overalls\n",
    "trivibe.write_register(1, UNLOCK)\n",
    "trivibe.write_register(359, FFT_POINTS_SENSOR_1)\n",
    "trivibe.write_register(363, FFT_POINTS_SENSOR_2)\n",
    "trivibe.write_register(1, LOCK)"
   ]
  },
  {
   "cell_type": "code",
   "execution_count": null,
   "metadata": {},
   "outputs": [],
   "source": [
    "# Set Defaults for Overall Vibration Filters Hz*10\n",
    "HIGH_PASS=15 #1.5Hz\n",
    "LOW_PASS=20000 #2000.0Hz\n",
    "\n",
    "trivibe.write_register(1, UNLOCK)\n",
    "trivibe.write_register(375, LOW_PASS)\n",
    "trivibe.write_register(376, HIGH_PASS)\n",
    "trivibe.write_register(1, LOCK)\n",
    "trivibe.write_register(1, 1)\n",
    "print(\"Sensor Rebooting\")\n",
    "time.sleep(5)"
   ]
  },
  {
   "cell_type": "code",
   "execution_count": null,
   "metadata": {},
   "outputs": [],
   "source": [
    "UNOCK_ALARMS = 42074\n",
    "LOCK_ALARMS = 42075\n",
    "TRIP_DELAY_MS=3000\n",
    "CH_1_AXIS=1\n",
    "CH_1_TYPE=1\n",
    "CH_1_LOW_LIMIT=-100000\n",
    "CH_1_HIGH_LIMIT=25\n",
    "CH_1_HIGHHIGH_LIMIT=100000\n",
    "CH_1_HYSTERESIS=0\n",
    "CH_2_AXIS=2\n",
    "CH_2_TYPE=1\n",
    "CH_2_LOW_LIMIT=-100000\n",
    "CH_2_HIGH_LIMIT=25\n",
    "CH_2_HIGHHIGH_LIMIT=100000\n",
    "CH_2_HYSTERESIS=0\n",
    "CH_3_AXIS=3\n",
    "CH_3_TYPE=1\n",
    "CH_3_LOW_LIMIT=-100000\n",
    "CH_3_HIGH_LIMIT=25\n",
    "CH_3_HIGHHIGH_LIMIT=100000\n",
    "CH_3_HYSTERESIS=0\n",
    "CH_4_AXIS=4\n",
    "CH_4_TYPE=4\n",
    "CH_4_LOW_LIMIT=-40\n",
    "CH_4_HIGH_LIMIT=100\n",
    "CH_4_HIGHHIGH_LIMIT=105\n",
    "CH_4_HYSTERESIS=0\n",
    "\n",
    "# Set Default Alarm Limits\n",
    "trivibe.write_register(1, UNOCK_ALARMS)\n",
    "trivibe.write_register(311, TRIP_DELAY_MS)\n",
    "trivibe.write_register(312, CH_1_AXIS)\n",
    "trivibe.write_register(313, CH_1_TYPE)\n",
    "trivibe.write_float(314, CH_1_LOW_LIMIT)\n",
    "trivibe.write_float(316, CH_1_HIGH_LIMIT)\n",
    "trivibe.write_float(318, CH_1_HIGHHIGH_LIMIT)\n",
    "trivibe.write_float(320, CH_1_HYSTERESIS)\n",
    "trivibe.write_register(322, CH_2_AXIS)\n",
    "trivibe.write_register(323, CH_2_TYPE)\n",
    "trivibe.write_float(324, CH_2_LOW_LIMIT)\n",
    "trivibe.write_float(326, CH_2_HIGH_LIMIT)\n",
    "trivibe.write_float(328, CH_2_HIGHHIGH_LIMIT)\n",
    "trivibe.write_float(330, CH_2_HYSTERESIS)\n",
    "trivibe.write_register(332, CH_3_AXIS)\n",
    "trivibe.write_register(333, CH_3_TYPE)\n",
    "trivibe.write_float(334, CH_3_LOW_LIMIT)\n",
    "trivibe.write_float(336, CH_3_HIGH_LIMIT)\n",
    "trivibe.write_float(338, CH_3_HIGHHIGH_LIMIT)\n",
    "trivibe.write_float(340, CH_3_HYSTERESIS)\n",
    "trivibe.write_register(342, CH_4_AXIS)\n",
    "trivibe.write_register(343, CH_4_TYPE)\n",
    "trivibe.write_float(344, CH_4_LOW_LIMIT)\n",
    "trivibe.write_float(346, CH_4_HIGH_LIMIT)\n",
    "trivibe.write_float(348, CH_4_HIGHHIGH_LIMIT)\n",
    "trivibe.write_float(350, CH_4_HYSTERESIS)\n",
    "trivibe.write_register(1, LOCK_ALARMS)"
   ]
  }
 ],
 "metadata": {
  "kernelspec": {
   "display_name": "Python 3",
   "language": "python",
   "name": "python3"
  },
  "language_info": {
   "codemirror_mode": {
    "name": "ipython",
    "version": 3
   },
   "file_extension": ".py",
   "mimetype": "text/x-python",
   "name": "python",
   "nbconvert_exporter": "python",
   "pygments_lexer": "ipython3",
   "version": "3.7.4"
  }
 },
 "nbformat": 4,
 "nbformat_minor": 2
}
